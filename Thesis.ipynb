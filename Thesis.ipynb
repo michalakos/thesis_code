{
  "nbformat": 4,
  "nbformat_minor": 0,
  "metadata": {
    "colab": {
      "provenance": []
    },
    "kernelspec": {
      "name": "python3",
      "display_name": "Python 3"
    },
    "language_info": {
      "name": "python"
    }
  },
  "cells": [
    {
      "cell_type": "markdown",
      "source": [
        "## Dependencies and packages"
      ],
      "metadata": {
        "id": "B0UyXFr5HI5x"
      }
    },
    {
      "cell_type": "code",
      "source": [
        "from random import randint\n",
        "from math import dist, log\n",
        "import numpy as np\n",
        "import matplotlib.pyplot as plt"
      ],
      "metadata": {
        "id": "u7cGOiD5HMgs"
      },
      "execution_count": 1,
      "outputs": []
    },
    {
      "cell_type": "markdown",
      "source": [
        "## System topology simulation"
      ],
      "metadata": {
        "id": "8PwwcuxqFOvt"
      }
    },
    {
      "cell_type": "markdown",
      "source": [
        "### System parameters"
      ],
      "metadata": {
        "id": "rASPJ_DaFX94"
      }
    },
    {
      "cell_type": "code",
      "execution_count": 2,
      "metadata": {
        "id": "QzP5e8lHCZuF"
      },
      "outputs": [],
      "source": [
        "K = 4                 # (edge users)\n",
        "X_LENGTH = 500        # m (horizontal length of area)\n",
        "Y_LENGTH = 500        # m (vertical length of area)\n",
        "\n",
        "NOISE_STD = -174      # dBm/Hz (AWGN)\n",
        "FADE_STD = 8          # dB (path loss)\n",
        "B = 1000000           # Hz (bandwidth)\n",
        "P_MAX = 1             # dBm (max power)\n",
        "C = 1000              # cpu cycles / bit (computational power)\n",
        "C_COEFF = 10**(-28)   # effective capacitance coefficient\n",
        "FREQUENCY = 2*10**9   # cpu cycles / sec (cpu frequency)\n",
        "SEC_RATE_TH = 1       # bit / sec (secure data rate threshold)\n",
        "T_MAX = 0.1           # sec (time threshold)"
      ]
    },
    {
      "cell_type": "markdown",
      "source": [
        "### Cell class code"
      ],
      "metadata": {
        "id": "KmmHt3jdGOI9"
      }
    },
    {
      "cell_type": "code",
      "source": [
        "class Env:\n",
        "  # TODO: find a way to calculate the deconding order dec_ord\n",
        "  #       calculate reward function\n",
        "\n",
        "  # create an instance of Env\n",
        "  def __init__(self, N_users=K, x_length=X_LENGTH, y_length=Y_LENGTH,\n",
        "               fade_std=FADE_STD):\n",
        "    self.N_users = N_users\n",
        "    self.x_length = x_length\n",
        "    self.y_length = y_length\n",
        "    self.fade_std = fade_std\n",
        "    self.reset()\n",
        "\n",
        "\n",
        "  # reposition users, update their channel gains (both bs and eve)\n",
        "  # and get a new state\n",
        "  def reset(self):\n",
        "    self.task_sizes = []\n",
        "    self.bs_coords = (0,0)\n",
        "    self.eve_coords = (randint(-self.x_length/2*100, self.x_length/2*100)/100,\n",
        "                      randint(-self.y_length/2*100, self.y_length/2*100)/100)\n",
        "\n",
        "    # randomly place users in grid\n",
        "    self.user_coords = []\n",
        "    for _ in range(self.N_users):\n",
        "      # multiply and divide by 100 to have two decimal points\n",
        "      user = (randint(-self.x_length/2*100, self.x_length/2*100)/100,\n",
        "              randint(-self.y_length/2*100, self.y_length/2*100)/100)\n",
        "      self.user_coords.append(user)\n",
        "\n",
        "    # calculate channel gains for each user with respect to BS and eve\n",
        "    self.user_gains_bs = self._get_channel_gains(self.bs_coords)\n",
        "    self.user_gains_eve = self._get_channel_gains(self.eve_coords)\n",
        "\n",
        "    # randomize state of environment\n",
        "    self.state = self._state_update()\n",
        "\n",
        "\n",
        "  # return a list of channel gains - one for each user -\n",
        "  # for the user's channel to the reference point (BS or Eve)\n",
        "  def _get_channel_gains(self, ref_point):\n",
        "    user_gains = []\n",
        "    for user in self.user_coords:\n",
        "      # path loss model: 128.1 + 37.6*log_10(d) (d is in km)\n",
        "      user_path_loss = 128.1 + 37.6 *\\\n",
        "       log(dist(ref_point, user) / 1000, 10) +\\\n",
        "       np.random.normal(0, self.fade_std)\n",
        "      # gain = 1 / path loss\n",
        "      user_gains.append(1/user_path_loss)\n",
        "    return user_gains\n",
        "\n",
        "\n",
        "  # get new tasks\n",
        "  # return new state\n",
        "  def _state_update(self):\n",
        "    # task bit size around 1 to 3 * 10^5 bits\n",
        "    self.task_sizes = [randint(100000, 300000) for user in range(self.N_users)]\n",
        "    self.dec_order = [x for x in range(self.N_users)]\n",
        "    self.state = self.user_gains_bs + self.user_gains_eve +\\\n",
        "      self.task_sizes + self.dec_order\n",
        "    return self.state\n",
        "\n",
        "\n",
        "  # get user k's information from state\n",
        "  # returns tuple (h_k_BS, h_k_eve, S_k)\n",
        "  def get_state_k(self, k):\n",
        "    return self.user_gains_bs[k], self.user_gains_eve[k], self.task_sizes[k]\n",
        "\n",
        "\n",
        "  # get user k's action\n",
        "  # return tuple (p_k_1, p_k_2, s_k)\n",
        "  # action is structured as [p_1_1, p_2_1, ..., p_K_1,\n",
        "  #                          p_1_2, p_2_2, ..., p_K_2,\n",
        "  #                          s_1, s_2, ..., s_K]\n",
        "  def get_action_k(self, k, action):\n",
        "    return action[k], action[self.N_users + k], action[2 * self.N_users + k]\n",
        "\n",
        "\n",
        "  # update state based on action and get new state and reward\n",
        "  def step(self, action):\n",
        "    self.state = self._state_update()\n",
        "    return self.state, self._reward(action)\n",
        "\n",
        "\n",
        "  # calculate reward\n",
        "  def _reward(self, action):\n",
        "    return 1/_energy_sum(action) * (1 - _qos(action))\n",
        "\n",
        "\n",
        "  # quality of service indicator, ranges from 0 (bad) to 1 (great)\n",
        "  def _qos(self, action):\n",
        "    res = 0\n",
        "    for user in range(self.N_users):\n",
        "      sec_data_rate_k_1, sec_data_rate_k_2 =\n",
        "        self._secure_data_rate_k(user, action)\n",
        "      offload_time = self._offload_time_k(user, action)\n",
        "      execution_time = self._execution_time_k(user, action)\n",
        "\n",
        "      if (sec_data_rate_k_1 > SEC_RATE_TH and\n",
        "        sec_data_rate_k_2 > SEC_RATE_TH and\n",
        "        max(offload_time, execution_time) > T_MAX):\n",
        "        res += 1\n",
        "\n",
        "    return res / self.N_users\n",
        "\n",
        "\n",
        "  # return the total energy consumed in the last timeslot\n",
        "  def _energy_sum(self, action):\n",
        "    energy_total = 0\n",
        "    for user_i in range(self.N_users):\n",
        "      energy_total += self._energy_offload_k(user_i, action) +\\\n",
        "        self._energy_execution_k(user_i, action)\n",
        "\n",
        "    return energy_total\n",
        "\n",
        "\n",
        "  # return the total energy consumed for execution of local task at user\n",
        "  def _energy_execution_k(self, k, action):\n",
        "    _, _, user_split = self.get_action_k(k, action)\n",
        "    _, _, task_total = self.get_state_k(k)\n",
        "\n",
        "    return C_COEFF * FREQUENCY ** 2 * (task_total - user_split)\n",
        "\n",
        "\n",
        "  # return offload time\n",
        "  def _offload_time_k(self, k, action):\n",
        "    user_p1, user_p2, user_split = self.get_action_k(k, action)\n",
        "    channel_bs, channel_eve, task_total = self.get_state_k(k)\n",
        "\n",
        "    # calculate the required time for offloading\n",
        "    sec_data_rate_k_1, sec_data_rate_k_2 = self._secure_data_rate_k(k, action)\n",
        "    sec_data_rate_k = sec_data_rate_k_1 + sec_data_rate_k_2\n",
        "    offload_time = user_split / (C * sec_data_rate_k)\n",
        "\n",
        "\n",
        "  # return execution time\n",
        "  def _execution_time_k(self, k, action):\n",
        "    _, _, offload_task = self.get_action_k(k, action)\n",
        "    _, _, task_total = self.get_state_k(k)\n",
        "    return (task_total - offload_task) / FREQUENCY\n",
        "\n",
        "\n",
        "  # return the energy a user requires to offload their task\n",
        "  def _energy_offload_k(self, k, action):\n",
        "    offload_time = self._offload_time_k(k, action)\n",
        "    return (user_p1 + user_p2) * offload_time\n",
        "\n",
        "\n",
        "  # return the secure data rates for user k\n",
        "  def _secure_data_rate_k(self, k, action):\n",
        "    user_p1, user_p2, _ = self.get_action_k(k, action)\n",
        "    channel_bs, channel_eve, _ = self.get_state_k(k)\n",
        "\n",
        "    # calculate first message's achievable rate of decoding at BS\n",
        "    bs_interference = self._interference_bs_k(k, action)\n",
        "    log_arg = 1 + channel_bs * user_p1 / \\\n",
        "        (bs_interference + channel_bs * user_p2 + NOISE_STD * B)\n",
        "    rate_bs_1 = B * log(log_arg, 2)\n",
        "\n",
        "\n",
        "    # calculate first message's achievable rate of decoding at eavesdropper\n",
        "    eve_interference = self._interference_eve_k(k, action)\n",
        "    log_arg = 1 + channel_eve * user_p1 / \\\n",
        "        (eve_interference + channel_eve * user_p2 + NOISE_STD * B)\n",
        "    rate_eve_1 = B * log(log_arg, 2)\n",
        "\n",
        "    secure_data_rate_1 = max(0, rate_bs_1 - rate_eve_1)   # first message\n",
        "\n",
        "    # calculate second message's achievable rates\n",
        "    log_arg = 1 + channel_bs * user_p2 / \\\n",
        "        (bs_interference + NOISE_STD * B)\n",
        "    rate_bs_2 = B * log(log_arg, 2)\n",
        "\n",
        "    log_arg = 1 + channel_eve * user_p2 / \\\n",
        "        (eve_interference + channel_eve * user_p1 + NOISE_STD * B)\n",
        "    rate_eve_2 = B * log(log_arg, 2)\n",
        "\n",
        "    secure_data_rate_2 = max(0, rate_bs_2 - rate_eve_2)   # second message\n",
        "\n",
        "    return secure_data_rate_1, secure_data_rate_2\n",
        "\n",
        "\n",
        "  # calculate the interference to the BS for a user's signal\n",
        "  def _interference_bs_k(self, k, action):\n",
        "    decoding_order = self.dec_order\n",
        "    interference = 0\n",
        "    for user in decoding_order[k:]:\n",
        "      user_p1, user_p2, _ = self.get_action_k(user, action)\n",
        "      channel_bs, _, _ = self.get_state_k(user)\n",
        "      interference += (user_p1 + user_p2) * channel_bs\n",
        "    return interference\n",
        "\n",
        "\n",
        "  # calculate the interference to the eavesdropper for a user's signal\n",
        "  def _interference_eve_k(self, k, action):\n",
        "    interference = 0\n",
        "    for user in range(self.N_users):\n",
        "      if user == k:\n",
        "        continue\n",
        "      user_p1, user_p2, _ = self.get_action_k(user, action)\n",
        "      _, channel_eve, _ = self.get_state_k(user)\n",
        "      interference += (user_p1 + user_p2) * channel_eve\n",
        "\n",
        "    return interference\n",
        "\n",
        "\n",
        "  # visualize the environment\n",
        "  def render(self):\n",
        "    user_plot_x = []\n",
        "    user_plot_y = []\n",
        "    for user_x, user_y in self.user_coords:\n",
        "      user_plot_x.append(user_x)\n",
        "      user_plot_y.append(user_y)\n",
        "\n",
        "    plt.scatter(self.bs_coords[0], self.bs_coords[1], color='green', marker='x',\n",
        "                label='Base Station')\n",
        "    plt.scatter(self.eve_coords[0], self.eve_coords[1], color='red', marker='x',\n",
        "                label='Eavesdropper')\n",
        "    plt.scatter(user_plot_x, user_plot_y, color='blue', marker='o',\n",
        "                label='Users')\n",
        "\n",
        "    plt.xlim(-self.x_length/2, self.x_length/2)\n",
        "    plt.ylim(-self.y_length/2, self.y_length/2)\n",
        "    plt.legend()"
      ],
      "metadata": {
        "id": "8DHJO56YGVnB"
      },
      "execution_count": 3,
      "outputs": []
    },
    {
      "cell_type": "markdown",
      "source": [
        "### Create a cell instance for testing\n"
      ],
      "metadata": {
        "id": "dF75ekF9Twka"
      }
    },
    {
      "cell_type": "code",
      "source": [
        "env = Env()"
      ],
      "metadata": {
        "id": "7LypL4dnJWvh"
      },
      "execution_count": 4,
      "outputs": []
    },
    {
      "cell_type": "code",
      "source": [
        "env.step([])"
      ],
      "metadata": {
        "colab": {
          "base_uri": "https://localhost:8080/"
        },
        "id": "FYaXLmF8wWKQ",
        "outputId": "a803cf45-71f6-484e-8487-a6e55b3f8f57"
      },
      "execution_count": 5,
      "outputs": [
        {
          "output_type": "execute_result",
          "data": {
            "text/plain": [
              "([557668,\n",
              "  637704,\n",
              "  1217544,\n",
              "  992558,\n",
              "  0.00994402194544158,\n",
              "  0.012276411048901401,\n",
              "  0.008929962637893262,\n",
              "  0.010235934260630847,\n",
              "  0.007887773611044644,\n",
              "  0.009302164882492353,\n",
              "  0.008362368309608289,\n",
              "  0.010418962998475912,\n",
              "  0,\n",
              "  1,\n",
              "  2,\n",
              "  3],\n",
              " 0)"
            ]
          },
          "metadata": {},
          "execution_count": 5
        }
      ]
    },
    {
      "cell_type": "code",
      "source": [
        "for i in range(K):\n",
        "  print(\"Edge user at ({},{}) with BS channel gain {}\".format(\n",
        "      env.user_coords[i][0], env.user_coords[i][1], env.user_gains_bs[i]\n",
        "  ))"
      ],
      "metadata": {
        "colab": {
          "base_uri": "https://localhost:8080/"
        },
        "id": "NcxX11iMSL6R",
        "outputId": "7e8c9320-7e9f-493b-bc05-703d6f048d21"
      },
      "execution_count": 8,
      "outputs": [
        {
          "output_type": "stream",
          "name": "stdout",
          "text": [
            "Edge user at (-129.83,216.96) with BS channel gain 0.00994402194544158\n",
            "Edge user at (51.01,-43.2) with BS channel gain 0.012276411048901401\n",
            "Edge user at (222.74,237.41) with BS channel gain 0.008929962637893262\n",
            "Edge user at (77.58,-124.4) with BS channel gain 0.010235934260630847\n"
          ]
        }
      ]
    },
    {
      "cell_type": "code",
      "source": [
        "env.render()"
      ],
      "metadata": {
        "colab": {
          "base_uri": "https://localhost:8080/",
          "height": 430
        },
        "id": "s2kfpXWgRRKI",
        "outputId": "b329f94b-a665-4d28-aac4-83b2fe60512b"
      },
      "execution_count": 10,
      "outputs": [
        {
          "output_type": "display_data",
          "data": {
            "text/plain": [
              "<Figure size 640x480 with 1 Axes>"
            ],
            "image/png": "[encoded data removed]"
          },
          "metadata": {}
        }
      ]
    },
    {
      "cell_type": "markdown",
      "source": [
        "## DDPG"
      ],
      "metadata": {
        "id": "aPSb4WKI346V"
      }
    },
    {
      "cell_type": "code",
      "source": [
        "import tensorflow as tf\n",
        "from tensorflow.keras import layers\n",
        "import numpy as np"
      ],
      "metadata": {
        "id": "1q3ROfKTNXds"
      },
      "execution_count": 11,
      "outputs": []
    },
    {
      "cell_type": "markdown",
      "source": [
        "### Training"
      ],
      "metadata": {
        "id": "u8bJkq7bUAlD"
      }
    },
    {
      "cell_type": "code",
      "source": [
        "actor_num_states = 3    # S_k, hbs_k, he_k\n",
        "critic_num_states = 3 * K\n",
        "actor_num_actions = 3   # pk_1, pk_2, s_k\n",
        "critic_num_actions = 3 * K"
      ],
      "metadata": {
        "id": "G8enOSXJ4FPr"
      },
      "execution_count": 12,
      "outputs": []
    },
    {
      "cell_type": "code",
      "source": [
        "timeslots = 200\n",
        "episodes = 2000\n",
        "update_time = 100"
      ],
      "metadata": {
        "id": "X0pC6aEsqKBz"
      },
      "execution_count": 13,
      "outputs": []
    },
    {
      "cell_type": "code",
      "source": [
        "def train():\n",
        "  pass # randomly initialize actor and critic networks at BS\n",
        "  for user_i in range(K):\n",
        "    pass # randomly initialize actor network at BS\n",
        "  for episode in range(episodes):\n",
        "    env = Env()\n",
        "    for timeslot in range(timeslots):\n",
        "      for user_i in range(K):\n",
        "        pass  # action = local_actor.predict(local_state)\n",
        "        pass # reward, new_state = local_actor.execute(action)\n",
        "        pass # send experience tuple to BS\n",
        "      pass # critic.combine(exp_tuples)\n",
        "      pass # critic.buffer.add(random(exp_tuple))\n",
        "      pass # critic.update(random(exp_tuples))\n",
        "      pass # actor.update()\n",
        "      if ((episode*timeslots + timeslot) % update_time == 0):\n",
        "        pass # update local actors"
      ],
      "metadata": {
        "id": "WaLBFr7iqREi"
      },
      "execution_count": 15,
      "outputs": []
    }
  ]
}